{
 "cells": [
  {
   "cell_type": "code",
   "execution_count": 143,
   "metadata": {},
   "outputs": [
    {
     "data": {
      "application/vnd.jupyter.widget-view+json": {
       "model_id": "8f3be62ffbda46ccba2e9678f8a4a835",
       "version_major": 2,
       "version_minor": 0
      },
      "text/plain": [
       "interactive(children=(Dropdown(description='Dist Type', options=('Normal', 'Trimodal', 'Uniform'), value='Norm…"
      ]
     },
     "metadata": {},
     "output_type": "display_data"
    }
   ],
   "source": [
    "import numpy as np\n",
    "import matplotlib.pyplot as plt\n",
    "from ipywidgets import interact, FloatSlider, IntSlider, Dropdown, Checkbox, VBox, HBox, Layout\n",
    "\n",
    "def generate_population_distribution(dist_type, mean=0, std_dev=1, mean2=0, std_dev2=1, mean3=0, std_dev3=1, size=10000):\n",
    "    if dist_type == 'Normal':\n",
    "        return np.random.normal(mean, std_dev, size)\n",
    "    elif dist_type == 'Trimodal':\n",
    "        return np.concatenate([np.random.normal(mean, std_dev, size//3), \n",
    "                               np.random.normal(mean2, std_dev2, size//3),\n",
    "                               np.random.normal(mean3, std_dev3, size//3)])\n",
    "    elif dist_type == 'Uniform':\n",
    "        return np.random.uniform(mean - std_dev*np.sqrt(3), mean + std_dev*np.sqrt(3), size)\n",
    "    else:\n",
    "        raise ValueError(\"Unsupported distribution type\")\n",
    "\n",
    "def plot_distributions(dist_type='Normal', mean=0, std_dev=1, mean2=0, std_dev2=1, mean3=0, std_dev3=1, n=30, show_population=True, show_sample=True):\n",
    "    population = generate_population_distribution(dist_type, mean, std_dev, mean2, std_dev2, mean3, std_dev3)\n",
    "    sample_means = [np.mean(np.random.choice(population, n, replace=False)) for _ in range(1000)]\n",
    "    \n",
    "    plt.figure(figsize=(8, 4))\n",
    "    \n",
    "    if show_population:\n",
    "        plt.hist(population, bins=50, density=True, alpha=0.6, color='red', label=f'Population Distribution: {dist_type}')\n",
    "    \n",
    "    if show_sample:\n",
    "        plt.hist(sample_means, bins=50, density=True, alpha=0.6, color='blue', label=f'Sample Mean Distribution (n={n})')\n",
    "    \n",
    "    plt.title('Population and Sample Mean Distributions')\n",
    "    plt.xlabel('Value')\n",
    "    plt.ylabel('Probability Density')\n",
    "    plt.legend()\n",
    "    plt.grid(True)\n",
    "    \n",
    "    plt.show()\n",
    "\n",
    "# Creating interactive controls for distribution type, mean, standard deviation, sample size, and visibility\n",
    "dist_type_dropdown = Dropdown(options=['Normal', 'Trimodal', 'Uniform'], value='Normal', description='Dist Type')\n",
    "\n",
    "mean_slider = FloatSlider(value=0, min=-10, max=10, step=0.1, description='Mean 1')\n",
    "std_dev_slider = FloatSlider(value=1, min=0.1, max=5, step=0.1, description='Std Dev 1')\n",
    "\n",
    "mean2_slider = FloatSlider(value=0, min=-10, max=10, step=0.1, description='Mean 2', layout=Layout(display='none'))\n",
    "std_dev2_slider = FloatSlider(value=1, min=0.1, max=5, step=0.1, description='Std Dev 2', layout=Layout(display='none'))\n",
    "\n",
    "mean3_slider = FloatSlider(value=0, min=-10, max=10, step=0.1, description='Mean 3', layout=Layout(display='none'))\n",
    "std_dev3_slider = FloatSlider(value=1, min=0.1, max=5, step=0.1, description='Std Dev 3', layout=Layout(display='none'))\n",
    "\n",
    "n_slider = IntSlider(value=2, min=1, max=30, step=1, description='Sample Size (n)')\n",
    "\n",
    "show_population_checkbox = Checkbox(value=True, description='Show Population')\n",
    "show_sample_checkbox = Checkbox(value=True, description='Show Sample')\n",
    "\n",
    "# Organizing the controls in a three-column layout\n",
    "mean1_controls = VBox([mean_slider, std_dev_slider])\n",
    "mean2_controls = VBox([mean2_slider, std_dev2_slider])\n",
    "mean3_controls = VBox([mean3_slider, std_dev3_slider])\n",
    "\n",
    "three_column_layout = HBox([mean1_controls, mean2_controls, mean3_controls])\n",
    "\n",
    "controls = VBox([\n",
    "    dist_type_dropdown,\n",
    "    three_column_layout,\n",
    "    n_slider,\n",
    "    HBox([show_population_checkbox, show_sample_checkbox])\n",
    "])\n",
    "\n",
    "def update_controls(dist_type):\n",
    "    if dist_type == 'Normal':\n",
    "        mean2_slider.layout.display = 'none'\n",
    "        std_dev2_slider.layout.display = 'none'\n",
    "        mean3_slider.layout.display = 'none'\n",
    "        std_dev3_slider.layout.display = 'none'\n",
    "    elif dist_type == 'Trimodal':\n",
    "        mean2_slider.layout.display = 'flex'\n",
    "        std_dev2_slider.layout.display = 'flex'\n",
    "        mean3_slider.layout.display = 'flex'\n",
    "        std_dev3_slider.layout.display = 'flex'\n",
    "        \n",
    "    else:\n",
    "        mean2_slider.layout.display = 'none'\n",
    "        std_dev2_slider.layout.display = 'none'\n",
    "        mean3_slider.layout.display = 'none'\n",
    "        std_dev3_slider.layout.display = 'none'\n",
    "\n",
    "\n",
    "interact(plot_distributions, dist_type=dist_type_dropdown, mean=mean_slider, std_dev=std_dev_slider, \n",
    "         mean2=mean2_slider, std_dev2=std_dev2_slider, mean3=mean3_slider, std_dev3=std_dev3_slider,\n",
    "         n=n_slider, show_population=show_population_checkbox, show_sample=show_sample_checkbox)\n",
    "\n",
    "dist_type_dropdown.observe(lambda change: update_controls(change['new']), names='value')\n",
    "\n",
    "# Initialize the visibility of the sliders based on the default value\n",
    "update_controls(dist_type_dropdown.value)"
   ]
  },
  {
   "cell_type": "code",
   "execution_count": null,
   "metadata": {},
   "outputs": [],
   "source": []
  }
 ],
 "metadata": {
  "kernelspec": {
   "display_name": "Python 3",
   "language": "python",
   "name": "python3"
  },
  "language_info": {
   "codemirror_mode": {
    "name": "ipython",
    "version": 3
   },
   "file_extension": ".py",
   "mimetype": "text/x-python",
   "name": "python",
   "nbconvert_exporter": "python",
   "pygments_lexer": "ipython3",
   "version": "3.11.9"
  }
 },
 "nbformat": 4,
 "nbformat_minor": 2
}
