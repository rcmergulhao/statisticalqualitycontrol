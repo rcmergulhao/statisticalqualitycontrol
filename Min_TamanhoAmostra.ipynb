{
 "cells": [
  {
   "cell_type": "code",
   "execution_count": 1,
   "metadata": {},
   "outputs": [
    {
     "name": "stdout",
     "output_type": "stream",
     "text": [
      "Tamanho da amostra: 549\n",
      "Índice de aceitação máxima: 15\n",
      "Risco do fornecedor: 0.089\n",
      "Risco do consumidor: 0.074\n",
      "21.9 s ± 0 ns per loop (mean ± std. dev. of 1 run, 1 loop each)\n"
     ]
    }
   ],
   "source": [
    "%%timeit -n 1 -r 1 # Mede o tempo de execução da célula inteira, também repetindo o loop r vezes e executando n vezes cada loop.\n",
    "\n",
    "from scipy.stats import binom\n",
    "\n",
    "# Constantes\n",
    "TAMANHO_LOTE = 10000  # Tamanho do lote\n",
    "NQA = 0.02  # Nível de qualidade aceitável\n",
    "PTDL = 0.04  # Percentual tolerável de defeitos no lote\n",
    "RISCO_FORNECEDOR_MAX = 0.100  # Risco máximo aceito pelo fornecedor\n",
    "RISCO_CONSUMIDOR_MAX = 0.075  # Risco máximo aceito pelo consumidor\n",
    "\n",
    "def encontrar_plano_amostral():\n",
    "    # Itera sobre todos os possíveis tamanhos de amostra no lote\n",
    "    for tamanho_amostra in range(1, TAMANHO_LOTE + 1):\n",
    "        # Itera sobre todos os possíveis índices de aceitação para um tamanho de amostra\n",
    "        for aceitacao_maxima in range(tamanho_amostra + 1):\n",
    "            risco_fornecedor = 1 - binom.cdf(aceitacao_maxima, tamanho_amostra, NQA)\n",
    "            risco_consumidor = binom.cdf(aceitacao_maxima, tamanho_amostra, PTDL)\n",
    "            # Verifica se ambos os riscos estão dentro dos limites aceitáveis\n",
    "            if risco_fornecedor <= RISCO_FORNECEDOR_MAX and risco_consumidor <= RISCO_CONSUMIDOR_MAX:\n",
    "                return tamanho_amostra, aceitacao_maxima, risco_fornecedor, risco_consumidor\n",
    "\n",
    "# Obtenção dos resultados\n",
    "tamanho_amostra, aceitacao_maxima, risco_fornecedor, risco_consumidor = encontrar_plano_amostral()\n",
    "print(f'Tamanho da amostra: {tamanho_amostra}\\nÍndice de aceitação máxima: {aceitacao_maxima}\\nRisco do fornecedor: {risco_fornecedor:.3f}\\nRisco do consumidor: {risco_consumidor:.3f}')\n"
   ]
  },
  {
   "cell_type": "code",
   "execution_count": null,
   "metadata": {},
   "outputs": [],
   "source": []
  }
 ],
 "metadata": {
  "colab": {
   "authorship_tag": "ABX9TyOx/D8biTf2/N3I71a7XzR8",
   "provenance": []
  },
  "kernelspec": {
   "display_name": "Python 3 (ipykernel)",
   "language": "python",
   "name": "python3"
  },
  "language_info": {
   "codemirror_mode": {
    "name": "ipython",
    "version": 3
   },
   "file_extension": ".py",
   "mimetype": "text/x-python",
   "name": "python",
   "nbconvert_exporter": "python",
   "pygments_lexer": "ipython3",
   "version": "3.11.9"
  }
 },
 "nbformat": 4,
 "nbformat_minor": 4
}
