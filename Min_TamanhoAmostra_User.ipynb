{
 "cells": [
  {
   "cell_type": "code",
   "execution_count": 1,
   "metadata": {},
   "outputs": [
    {
     "data": {
      "application/vnd.jupyter.widget-view+json": {
       "model_id": "3d788d36f4d54a3fa5255cfc4814857b",
       "version_major": 2,
       "version_minor": 0
      },
      "text/plain": [
       "IntText(value=10000, description='Tamanho do Lote:')"
      ]
     },
     "metadata": {},
     "output_type": "display_data"
    },
    {
     "data": {
      "application/vnd.jupyter.widget-view+json": {
       "model_id": "5a183fbbc8f44cbcbd7945d40c13d90f",
       "version_major": 2,
       "version_minor": 0
      },
      "text/plain": [
       "FloatText(value=0.02, description='NQA:')"
      ]
     },
     "metadata": {},
     "output_type": "display_data"
    },
    {
     "data": {
      "application/vnd.jupyter.widget-view+json": {
       "model_id": "c32886507df348759caaa9bdc8ef4171",
       "version_major": 2,
       "version_minor": 0
      },
      "text/plain": [
       "FloatText(value=0.04, description='PTDL:')"
      ]
     },
     "metadata": {},
     "output_type": "display_data"
    },
    {
     "data": {
      "application/vnd.jupyter.widget-view+json": {
       "model_id": "c9557b15774e4df6b916adc35fbf5e4c",
       "version_major": 2,
       "version_minor": 0
      },
      "text/plain": [
       "FloatText(value=0.1, description='Risco Fornec. Máx:')"
      ]
     },
     "metadata": {},
     "output_type": "display_data"
    },
    {
     "data": {
      "application/vnd.jupyter.widget-view+json": {
       "model_id": "8e849787cfb5440b8ad4200eb6392b33",
       "version_major": 2,
       "version_minor": 0
      },
      "text/plain": [
       "FloatText(value=0.075, description='Risco Cons. Máx:')"
      ]
     },
     "metadata": {},
     "output_type": "display_data"
    },
    {
     "data": {
      "application/vnd.jupyter.widget-view+json": {
       "model_id": "e2751cf4fb1140c9ae48fe32af1bc3ac",
       "version_major": 2,
       "version_minor": 0
      },
      "text/plain": [
       "Button(description='Calcular Plano Amostral', style=ButtonStyle())"
      ]
     },
     "metadata": {},
     "output_type": "display_data"
    },
    {
     "data": {
      "application/vnd.jupyter.widget-view+json": {
       "model_id": "8bbfd97c2357429e8b25b281aaf340bc",
       "version_major": 2,
       "version_minor": 0
      },
      "text/plain": [
       "Label(value='')"
      ]
     },
     "metadata": {},
     "output_type": "display_data"
    }
   ],
   "source": [
    "import ipywidgets as widgets\n",
    "from IPython.display import display\n",
    "from scipy.stats import binom\n",
    "\n",
    "# Função que encontra o plano amostral com base nos inputs fornecidos\n",
    "def encontrar_plano_amostral(TAMANHO_LOTE, NQA, PTDL, RISCO_FORNECEDOR_MAX, RISCO_CONSUMIDOR_MAX):\n",
    "    for tamanho_amostra in range(1, TAMANHO_LOTE + 1):\n",
    "        for aceitacao_maxima in range(tamanho_amostra + 1):\n",
    "            risco_fornecedor = 1 - binom.cdf(aceitacao_maxima, tamanho_amostra, NQA)\n",
    "            risco_consumidor = binom.cdf(aceitacao_maxima, tamanho_amostra, PTDL)\n",
    "            if risco_fornecedor <= RISCO_FORNECEDOR_MAX and risco_consumidor <= RISCO_CONSUMIDOR_MAX:\n",
    "                return tamanho_amostra, aceitacao_maxima, risco_fornecedor, risco_consumidor\n",
    "    return None, None, None, None\n",
    "\n",
    "# Widgets para entrada dos parâmetros\n",
    "tamanho_lote_input = widgets.IntText(value=10000, description='Tamanho do Lote:')\n",
    "nqa_input = widgets.FloatText(value=0.02, description='NQA:')\n",
    "ptdl_input = widgets.FloatText(value=0.04, description='PTDL:')\n",
    "risco_fornecedor_max_input = widgets.FloatText(value=0.100, description='Risco Fornec. Máx:')\n",
    "risco_consumidor_max_input = widgets.FloatText(value=0.075, description='Risco Cons. Máx:')\n",
    "\n",
    "# Função que será chamada quando o botão for clicado\n",
    "def on_button_clicked(b):\n",
    "    tamanho_lote = tamanho_lote_input.value\n",
    "    nqa = nqa_input.value\n",
    "    ptdl = ptdl_input.value\n",
    "    risco_fornecedor_max = risco_fornecedor_max_input.value\n",
    "    risco_consumidor_max = risco_consumidor_max_input.value\n",
    "    \n",
    "    tamanho_amostra, aceitacao_maxima, risco_fornecedor, risco_consumidor = encontrar_plano_amostral(\n",
    "        tamanho_lote, nqa, ptdl, risco_fornecedor_max, risco_consumidor_max\n",
    "    )\n",
    "    \n",
    "    if tamanho_amostra is not None:\n",
    "        result_label.value = (f'Tamanho da amostra: {tamanho_amostra}\\n'\n",
    "                              f'Índice de aceitação máxima: {aceitacao_maxima}\\n'\n",
    "                              f'Risco do fornecedor: {risco_fornecedor:.3f}\\n'\n",
    "                              f'Risco do consumidor: {risco_consumidor:.3f}')\n",
    "    else:\n",
    "        result_label.value = 'Nenhum plano amostral encontrado com os parâmetros fornecidos.'\n",
    "\n",
    "# Botão para submeter os parâmetros\n",
    "button = widgets.Button(description='Calcular Plano Amostral')\n",
    "button.on_click(on_button_clicked)\n",
    "\n",
    "# Label para mostrar os resultados\n",
    "result_label = widgets.Label()\n",
    "\n",
    "# Exibição dos widgets\n",
    "display(tamanho_lote_input, nqa_input, ptdl_input, risco_fornecedor_max_input, risco_consumidor_max_input, button, result_label)"
   ]
  },
  {
   "cell_type": "code",
   "execution_count": null,
   "metadata": {},
   "outputs": [],
   "source": []
  }
 ],
 "metadata": {
  "kernelspec": {
   "display_name": "Python 3",
   "language": "python",
   "name": "python3"
  },
  "language_info": {
   "codemirror_mode": {
    "name": "ipython",
    "version": 3
   },
   "file_extension": ".py",
   "mimetype": "text/x-python",
   "name": "python",
   "nbconvert_exporter": "python",
   "pygments_lexer": "ipython3",
   "version": "3.11.9"
  }
 },
 "nbformat": 4,
 "nbformat_minor": 2
}
